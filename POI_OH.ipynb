{
 "cells": [
  {
   "cell_type": "code",
   "execution_count": 1,
   "metadata": {},
   "outputs": [],
   "source": [
    "import pandas as pd\n",
    "import geopandas as gp\n",
    "\n",
    "import matplotlib.pyplot as plt\n",
    "import matplotlib as mpl\n",
    "%matplotlib inline\n",
    "\n",
    "import numpy as np\n",
    "\n",
    "from scipy.stats import norm\n",
    "import scipy.stats as stats\n",
    "import pylab as pl\n",
    "\n",
    "import libpysal\n",
    "from spglm.glm import GLM\n",
    "from spglm.family import Gaussian"
   ]
  },
  {
   "cell_type": "code",
   "execution_count": 2,
   "metadata": {},
   "outputs": [],
   "source": [
    "'''data1 = pd.read_csv(r'D:\\Accessibility_study\\CorePlacesMay2020Release-CORE_POI-2020_04-2020-05-06\\core_poi-part1.csv')\n",
    "data2 = pd.read_csv(r'D:\\Accessibility_study\\CorePlacesMay2020Release-CORE_POI-2020_04-2020-05-06\\core_poi-part2.csv')\n",
    "data3 = pd.read_csv(r'D:\\Accessibility_study\\CorePlacesMay2020Release-CORE_POI-2020_04-2020-05-06\\core_poi-part3.csv')\n",
    "data4 = pd.read_csv(r'D:\\Accessibility_study\\CorePlacesMay2020Release-CORE_POI-2020_04-2020-05-06\\core_poi-part4.csv')\n",
    "data5 = pd.read_csv(r'D:\\Accessibility_study\\CorePlacesMay2020Release-CORE_POI-2020_04-2020-05-06\\core_poi-part5.csv')'''"
   ]
  },
  {
   "cell_type": "code",
   "execution_count": 3,
   "metadata": {},
   "outputs": [],
   "source": [
    "#data = pd.concat([data1, data2, data3, data4, data5], ignore_index = True) \n",
    "#data.to_csv(r'D:\\Accessibility_study\\poi_US.csv')"
   ]
  },
  {
   "cell_type": "code",
   "execution_count": 2,
   "metadata": {},
   "outputs": [],
   "source": [
    "data= pd.read_csv(r'D:\\Accessibility_study\\poi_US.csv')"
   ]
  },
  {
   "cell_type": "code",
   "execution_count": 6,
   "metadata": {},
   "outputs": [],
   "source": [
    "data_PA = data[data['region'] == \"PA\"]\n",
    "data_OH = data[data['region'] == \"OH\"]\n",
    "data_IL = data[data['region'] == \"IL\"]\n",
    "data_CA = data[data['region'] == \"CA\"]\n",
    "data_NY = data[data['region'] == \"NY\"]\n",
    "data_TX = data[data['region'] == \"TX\"]\n",
    "data_CO = data[data['region'] == \"CO\"]\n",
    "data_OR = data[data['region'] == \"OR\"]"
   ]
  },
  {
   "cell_type": "code",
   "execution_count": 3,
   "metadata": {},
   "outputs": [],
   "source": [
    "data_AZ = data[data['region'] == \"AZ\"]\n",
    "data_WA = data[data['region'] == \"WA\"]\n",
    "data_MA = data[data['region'] == \"MA\"]\n",
    "data_WI = data[data['region'] == \"WI\"]\n",
    "data_IA = data[data['region'] == \"IA\"]\n",
    "data_UT = data[data['region'] == \"UT\"]\n",
    "data_FL = data[data['region'] == \"FL\"]\n",
    "data_MI = data[data['region'] == \"MI\"]\n",
    "data_IN = data[data['region'] == \"IN\"]\n",
    "data_NC = data[data['region'] == \"NC\"]\n",
    "data_GA = data[data['region'] == \"GA\"]\n",
    "data_TN = data[data['region'] == \"TN\"]\n",
    "data_KY = data[data['region'] == \"KY\"]"
   ]
  },
  {
   "cell_type": "code",
   "execution_count": 8,
   "metadata": {},
   "outputs": [],
   "source": [
    "data_MI.to_csv(r'D:\\Accessibility_study\\POI_states\\poi_MI.csv')\n",
    "data_IN.to_csv(r'D:\\Accessibility_study\\POI_states\\poi_IN.csv')\n",
    "data_NC.to_csv(r'D:\\Accessibility_study\\POI_states\\poi_NC.csv')\n",
    "data_GA.to_csv(r'D:\\Accessibility_study\\POI_states\\poi_GA.csv')\n",
    "data_TN.to_csv(r'D:\\Accessibility_study\\POI_states\\poi_TN.csv')\n",
    "data_KY.to_csv(r'D:\\Accessibility_study\\POI_states\\poi_KY.csv')"
   ]
  },
  {
   "cell_type": "code",
   "execution_count": 7,
   "metadata": {},
   "outputs": [],
   "source": [
    "data_IA.to_csv(r'D:\\Accessibility_study\\POI_states\\poi_IA.csv')\n",
    "data_UT.to_csv(r'D:\\Accessibility_study\\POI_states\\poi_UT.csv')\n",
    "data_FL.to_csv(r'D:\\Accessibility_study\\POI_states\\poi_FL.csv')"
   ]
  },
  {
   "cell_type": "markdown",
   "metadata": {},
   "source": [
    "# Read Data"
   ]
  },
  {
   "cell_type": "code",
   "execution_count": 43,
   "metadata": {},
   "outputs": [],
   "source": [
    "data_OH = gp.read_file(r'C:\\Users\\armit\\OneDrive - The Ohio State University\\SI model\\Shapefiles\\poi_OH.shp')\n",
    "data_franklin = gp.read_file(r'C:\\Users\\armit\\OneDrive - The Ohio State University\\SI model\\Shapefiles\\poi_franklin.shp')"
   ]
  },
  {
   "cell_type": "markdown",
   "metadata": {},
   "source": [
    "# Ohio Data processing"
   ]
  },
  {
   "cell_type": "code",
   "execution_count": 15,
   "metadata": {},
   "outputs": [
    {
     "data": {
      "text/plain": [
       "Index(['Field1', 'safegraph_', 'parent_saf', 'location_n', 'safegraph1',\n",
       "       'brands', 'top_catego', 'sub_catego', 'naics_code', 'latitude',\n",
       "       'longitude', 'street_add', 'city', 'region', 'postal_cod', 'iso_countr',\n",
       "       'phone_numb', 'open_hours', 'category_t', 'geometry'],\n",
       "      dtype='object')"
      ]
     },
     "execution_count": 15,
     "metadata": {},
     "output_type": "execute_result"
    }
   ],
   "source": [
    "data_OH.columns"
   ]
  },
  {
   "cell_type": "code",
   "execution_count": 28,
   "metadata": {},
   "outputs": [],
   "source": [
    "a = data_OH.naics_code.apply(lambda x: str(x))"
   ]
  },
  {
   "cell_type": "code",
   "execution_count": 36,
   "metadata": {},
   "outputs": [],
   "source": [
    "sector = []\n",
    "sec_code = []\n",
    "for i in range(len(a)):\n",
    "    if a[i][:2] == '11':\n",
    "        sector.append('Agriculture, Forestry, Fishing and Hunting')\n",
    "        sec_code.append ('11')\n",
    "    elif a[i][:2] == '21':\n",
    "        sector.append('Mining')\n",
    "        sec_code.append ('21')\n",
    "    elif a[i][:2] == '22':\n",
    "        sector.append('Utilities')\n",
    "        sec_code.append ('22')\n",
    "    elif a[i][:2] == '23':\n",
    "        sector.append('Construction')\n",
    "        sec_code.append ('23')\n",
    "    elif a[i][:2] == '31' or a[i][:2] == '32' or a[i][:2] == '33':\n",
    "        sector.append('Manufacturing')\n",
    "        sec_code.append ('31-33')\n",
    "    elif a[i][:2] == '42':\n",
    "        sector.append('Wholesale Trade')\n",
    "        sec_code.append ('42')\n",
    "    elif a[i][:2] == '44' or a[i][:2] == '45':\n",
    "        sector.append('Retail Trade')\n",
    "        sec_code.append ('44-45')\n",
    "    elif a[i][:2] == '48' or a[i][:2] == '49':\n",
    "        sector.append('Transportation and Warehousing')\n",
    "        sec_code.append ('48-49')\n",
    "    elif a[i][:2] == '51':\n",
    "        sector.append('Information')\n",
    "        sec_code.append ('51')\n",
    "    elif a[i][:2] == '52':\n",
    "        sector.append('Finance and Insurance')\n",
    "        sec_code.append ('52')\n",
    "    elif a[i][:2] == '53':\n",
    "        sector.append('Real Estate and Leasing')\n",
    "        sec_code.append ('53')\n",
    "    elif a[i][:2] == '54':\n",
    "        sector.append('Professional, Scientific and Technical Services')\n",
    "        sec_code.append ('54')\n",
    "    elif a[i][:2] == '55':\n",
    "        sector.append('Management of Companies and Enterprises')\n",
    "        sec_code.append ('55')\n",
    "    elif a[i][:2] == '56':\n",
    "        sector.append('Administrative Services')\n",
    "        sec_code.append ('56')\n",
    "    elif a[i][:2] == '61':\n",
    "        sector.append('Educational Services')\n",
    "        sec_code.append ('61')\n",
    "    elif a[i][:2] == '62':\n",
    "        sector.append('Health Care and Social Assistance')\n",
    "        sec_code.append ('62')\n",
    "    elif a[i][:2] == '71':\n",
    "        sector.append('Arts, Entertainment and Recreation')\n",
    "        sec_code.append ('71')\n",
    "    elif a[i][:2] == '72':\n",
    "        sector.append('Accomodation and Food Services')\n",
    "        sec_code.append ('72')\n",
    "    elif a[i][:2] == '81':\n",
    "        sector.append('Other Services')\n",
    "        sec_code.append ('81')\n",
    "    elif a[i][:2] == '92':\n",
    "        sector.append('Public Administration')\n",
    "        sec_code.append ('92')\n",
    "    else:\n",
    "        sector.append('code not available')\n",
    "        sec_code.append ('NA')\n",
    "        \n",
    "        \n"
   ]
  },
  {
   "cell_type": "code",
   "execution_count": 37,
   "metadata": {},
   "outputs": [],
   "source": [
    "data_OH['sector'] = sector\n",
    "data_OH['sec_code'] = sec_code"
   ]
  },
  {
   "cell_type": "code",
   "execution_count": 40,
   "metadata": {},
   "outputs": [],
   "source": [
    "gdf = gp.GeoDataFrame(data_OH, geometry = data_OH.geometry)\n",
    "gdf.to_file(r'C:\\Users\\armit\\OneDrive - The Ohio State University\\SI model\\Shapefiles\\poi_OH_coded.shp', Driver = 'Esri Shapefile')"
   ]
  },
  {
   "cell_type": "markdown",
   "metadata": {},
   "source": [
    "# Franklin Data processing"
   ]
  },
  {
   "cell_type": "code",
   "execution_count": 44,
   "metadata": {},
   "outputs": [
    {
     "data": {
      "text/plain": [
       "Index(['Field1', 'safegraph_', 'parent_saf', 'location_n', 'safegraph1',\n",
       "       'brands', 'top_catego', 'sub_catego', 'naics_code', 'latitude',\n",
       "       'longitude', 'street_add', 'city', 'region', 'postal_cod', 'iso_countr',\n",
       "       'phone_numb', 'open_hours', 'category_t', 'bus_type', 'geometry'],\n",
       "      dtype='object')"
      ]
     },
     "execution_count": 44,
     "metadata": {},
     "output_type": "execute_result"
    }
   ],
   "source": [
    "data_franklin.columns"
   ]
  },
  {
   "cell_type": "code",
   "execution_count": 45,
   "metadata": {},
   "outputs": [],
   "source": [
    "a = data_franklin.naics_code.apply(lambda x: str(x))"
   ]
  },
  {
   "cell_type": "code",
   "execution_count": 46,
   "metadata": {},
   "outputs": [],
   "source": [
    "sector = []\n",
    "sec_code = []\n",
    "for i in range(len(a)):\n",
    "    if a[i][:2] == '11':\n",
    "        sector.append('Agriculture, Forestry, Fishing and Hunting')\n",
    "        sec_code.append ('11')\n",
    "    elif a[i][:2] == '21':\n",
    "        sector.append('Mining')\n",
    "        sec_code.append ('21')\n",
    "    elif a[i][:2] == '22':\n",
    "        sector.append('Utilities')\n",
    "        sec_code.append ('22')\n",
    "    elif a[i][:2] == '23':\n",
    "        sector.append('Construction')\n",
    "        sec_code.append ('23')\n",
    "    elif a[i][:2] == '31' or a[i][:2] == '32' or a[i][:2] == '33':\n",
    "        sector.append('Manufacturing')\n",
    "        sec_code.append ('31-33')\n",
    "    elif a[i][:2] == '42':\n",
    "        sector.append('Wholesale Trade')\n",
    "        sec_code.append ('42')\n",
    "    elif a[i][:2] == '44' or a[i][:2] == '45':\n",
    "        sector.append('Retail Trade')\n",
    "        sec_code.append ('44-45')\n",
    "    elif a[i][:2] == '48' or a[i][:2] == '49':\n",
    "        sector.append('Transportation and Warehousing')\n",
    "        sec_code.append ('48-49')\n",
    "    elif a[i][:2] == '51':\n",
    "        sector.append('Information')\n",
    "        sec_code.append ('51')\n",
    "    elif a[i][:2] == '52':\n",
    "        sector.append('Finance and Insurance')\n",
    "        sec_code.append ('52')\n",
    "    elif a[i][:2] == '53':\n",
    "        sector.append('Real Estate and Leasing')\n",
    "        sec_code.append ('53')\n",
    "    elif a[i][:2] == '54':\n",
    "        sector.append('Professional, Scientific and Technical Services')\n",
    "        sec_code.append ('54')\n",
    "    elif a[i][:2] == '55':\n",
    "        sector.append('Management of Companies and Enterprises')\n",
    "        sec_code.append ('55')\n",
    "    elif a[i][:2] == '56':\n",
    "        sector.append('Administrative Services')\n",
    "        sec_code.append ('56')\n",
    "    elif a[i][:2] == '61':\n",
    "        sector.append('Educational Services')\n",
    "        sec_code.append ('61')\n",
    "    elif a[i][:2] == '62':\n",
    "        sector.append('Health Care and Social Assistance')\n",
    "        sec_code.append ('62')\n",
    "    elif a[i][:2] == '71':\n",
    "        sector.append('Arts, Entertainment and Recreation')\n",
    "        sec_code.append ('71')\n",
    "    elif a[i][:2] == '72':\n",
    "        sector.append('Accomodation and Food Services')\n",
    "        sec_code.append ('72')\n",
    "    elif a[i][:2] == '81':\n",
    "        sector.append('Other Services')\n",
    "        sec_code.append ('81')\n",
    "    elif a[i][:2] == '92':\n",
    "        sector.append('Public Administration')\n",
    "        sec_code.append ('92')\n",
    "    else:\n",
    "        sector.append('code not available')\n",
    "        sec_code.append ('NA')\n",
    "        \n",
    "        \n"
   ]
  },
  {
   "cell_type": "code",
   "execution_count": 47,
   "metadata": {},
   "outputs": [],
   "source": [
    "data_franklin['sector'] = sector\n",
    "data_franklin['sec_code'] = sec_code"
   ]
  },
  {
   "cell_type": "code",
   "execution_count": 48,
   "metadata": {},
   "outputs": [],
   "source": [
    "gdf = gp.GeoDataFrame(data_franklin, geometry = data_franklin.geometry)\n",
    "gdf.to_file(r'C:\\Users\\armit\\OneDrive - The Ohio State University\\SI model\\Shapefiles\\poi_franklin_coded.shp', Driver = 'Esri Shapefile')"
   ]
  },
  {
   "cell_type": "markdown",
   "metadata": {},
   "source": [
    "# count busines types in blockgroups"
   ]
  },
  {
   "cell_type": "code",
   "execution_count": 55,
   "metadata": {},
   "outputs": [],
   "source": [
    "# connect with shapefile\n",
    "franklin_bg = gp.read_file(r'C:\\Users\\armit\\OneDrive - The Ohio State University\\SI model\\Shapefiles\\Franklin_bg.shp')\n",
    "poi = gp.read_file(r'C:\\Users\\armit\\OneDrive - The Ohio State University\\SI model\\Shapefiles\\poi_franklin_codedprj.shp')"
   ]
  },
  {
   "cell_type": "code",
   "execution_count": 62,
   "metadata": {},
   "outputs": [],
   "source": [
    "data = gp.sjoin(franklin_bg, poi, how = \"left\", op=\"contains\")"
   ]
  },
  {
   "cell_type": "code",
   "execution_count": 86,
   "metadata": {},
   "outputs": [
    {
     "data": {
      "text/plain": [
       "['Other Services',\n",
       " 'Arts, Entertainment and Recreation',\n",
       " 'Professional, Scientific and Technical Services',\n",
       " 'Health Care and Social Assistance',\n",
       " 'Retail Trade',\n",
       " 'Accomodation and Food Services',\n",
       " 'code not available',\n",
       " 'Manufacturing',\n",
       " 'Finance and Insurance',\n",
       " 'Information',\n",
       " 'Public Administration',\n",
       " 'Educational Services',\n",
       " 'Wholesale Trade',\n",
       " 'Real Estate and Leasing',\n",
       " 'Transportation and Warehousing',\n",
       " 'Administrative Services',\n",
       " nan,\n",
       " 'Construction',\n",
       " 'Utilities',\n",
       " 'Agriculture, Forestry, Fishing and Hunting',\n",
       " 'Management of Companies and Enterprises']"
      ]
     },
     "execution_count": 86,
     "metadata": {},
     "output_type": "execute_result"
    }
   ],
   "source": [
    "sector = list(data['sector'].unique())\n",
    "sector"
   ]
  },
  {
   "cell_type": "code",
   "execution_count": 87,
   "metadata": {},
   "outputs": [],
   "source": [
    "data['Other Services'] = [1 if data['sector'].iloc[i] == sector[0] else 0 for i in range(len(data))]\n",
    "data['Recreation'] = [1 if data['sector'].iloc[i] == sector[1] else 0 for i in range(len(data))]\n",
    "data['Professional'] = [1 if data['sector'].iloc[i] == sector[2] else 0 for i in range(len(data))]\n",
    "data['Health_Care'] = [1 if data['sector'].iloc[i] == sector[3] else 0 for i in range(len(data))]\n",
    "data['Retail'] = [1 if data['sector'].iloc[i] == sector[4] else 0 for i in range(len(data))]\n",
    "data['Accomodation_and_Food'] = [1 if data['sector'].iloc[i] == sector[5] else 0 for i in range(len(data))]\n",
    "data['Manufacturing'] = [1 if data['sector'].iloc[i] == sector[7] else 0 for i in range(len(data))]\n",
    "data['Finance'] = [1 if data['sector'].iloc[i] == sector[8] else 0 for i in range(len(data))]\n",
    "data['Information'] = [1 if data['sector'].iloc[i] == sector[9] else 0 for i in range(len(data))]\n",
    "data['Public_Administration'] = [1 if data['sector'].iloc[i] == sector[10] else 0 for i in range(len(data))]\n",
    "data['Education'] = [1 if data['sector'].iloc[i] == sector[11] else 0 for i in range(len(data))]\n",
    "data['Wholesale'] = [1 if data['sector'].iloc[i] == sector[12] else 0 for i in range(len(data))]\n",
    "data['Real_Estate'] = [1 if data['sector'].iloc[i] == sector[13] else 0 for i in range(len(data))]\n",
    "data['Transportation'] = [1 if data['sector'].iloc[i] == sector[14] else 0 for i in range(len(data))]\n",
    "data['Administrative_Services'] = [1 if data['sector'].iloc[i] == sector[15] else 0 for i in range(len(data))]\n",
    "data['Construction'] = [1 if data['sector'].iloc[i] == sector[17] else 0 for i in range(len(data))]\n",
    "data['Utilities'] = [1 if data['sector'].iloc[i] == sector[18] else 0 for i in range(len(data))]\n",
    "data['Agriculture'] = [1 if data['sector'].iloc[i] == sector[19] else 0 for i in range(len(data))]\n",
    "data['Management_service'] = [1 if data['sector'].iloc[i] == sector[20] else 0 for i in range(len(data))]\n"
   ]
  },
  {
   "cell_type": "code",
   "execution_count": 88,
   "metadata": {},
   "outputs": [],
   "source": [
    "data1 = data.groupby(['id']).agg({'Other Services': 'sum',\n",
    "                                  'Recreation': 'sum',\n",
    "                                  'Professional': 'sum',\n",
    "                                  'Health_Care': 'sum',\n",
    "                                  'Retail': 'sum',\n",
    "                                  'Accomodation_and_Food': 'sum',\n",
    "                                  'Manufacturing': 'sum',\n",
    "                                  'Finance': 'sum',\n",
    "                                  'Information': 'sum',\n",
    "                                  'Public_Administration': 'sum',\n",
    "                                  'Education': 'sum',\n",
    "                                  'Wholesale': 'sum',\n",
    "                                  'Real_Estate': 'sum',\n",
    "                                  'Transportation': 'sum',\n",
    "                                  'Administrative_Services': 'sum',\n",
    "                                  'Construction': 'sum',\n",
    "                                  'Utilities': 'sum',\n",
    "                                  'Agriculture': 'sum',\n",
    "                                  'Management_service': 'sum'}).reset_index()\n"
   ]
  },
  {
   "cell_type": "code",
   "execution_count": 91,
   "metadata": {},
   "outputs": [
    {
     "data": {
      "text/html": [
       "<div>\n",
       "<style scoped>\n",
       "    .dataframe tbody tr th:only-of-type {\n",
       "        vertical-align: middle;\n",
       "    }\n",
       "\n",
       "    .dataframe tbody tr th {\n",
       "        vertical-align: top;\n",
       "    }\n",
       "\n",
       "    .dataframe thead th {\n",
       "        text-align: right;\n",
       "    }\n",
       "</style>\n",
       "<table border=\"1\" class=\"dataframe\">\n",
       "  <thead>\n",
       "    <tr style=\"text-align: right;\">\n",
       "      <th></th>\n",
       "      <th>id</th>\n",
       "      <th>name</th>\n",
       "      <th>direction</th>\n",
       "      <th>is_pass</th>\n",
       "      <th>is_bidi</th>\n",
       "      <th>X</th>\n",
       "      <th>Y</th>\n",
       "      <th>geometry</th>\n",
       "    </tr>\n",
       "  </thead>\n",
       "  <tbody>\n",
       "    <tr>\n",
       "      <th>0</th>\n",
       "      <td>3.904900e+11</td>\n",
       "      <td>652774</td>\n",
       "      <td>0.0</td>\n",
       "      <td>0.0</td>\n",
       "      <td>0.0</td>\n",
       "      <td>556995.0</td>\n",
       "      <td>228606.0</td>\n",
       "      <td>POLYGON ((1825954.827 748893.621, 1825988.398 ...</td>\n",
       "    </tr>\n",
       "    <tr>\n",
       "      <th>1</th>\n",
       "      <td>3.904900e+11</td>\n",
       "      <td>455974</td>\n",
       "      <td>0.0</td>\n",
       "      <td>0.0</td>\n",
       "      <td>0.0</td>\n",
       "      <td>556115.0</td>\n",
       "      <td>228528.0</td>\n",
       "      <td>POLYGON ((1822974.998 749264.334, 1822982.231 ...</td>\n",
       "    </tr>\n",
       "    <tr>\n",
       "      <th>2</th>\n",
       "      <td>3.904900e+11</td>\n",
       "      <td>276200</td>\n",
       "      <td>0.0</td>\n",
       "      <td>0.0</td>\n",
       "      <td>0.0</td>\n",
       "      <td>556140.0</td>\n",
       "      <td>228921.0</td>\n",
       "      <td>POLYGON ((1823054.744 750911.957, 1823058.209 ...</td>\n",
       "    </tr>\n",
       "    <tr>\n",
       "      <th>3</th>\n",
       "      <td>3.904900e+11</td>\n",
       "      <td>575424</td>\n",
       "      <td>0.0</td>\n",
       "      <td>0.0</td>\n",
       "      <td>0.0</td>\n",
       "      <td>555304.0</td>\n",
       "      <td>228715.0</td>\n",
       "      <td>POLYGON ((1820180.527 751821.920, 1820261.383 ...</td>\n",
       "    </tr>\n",
       "    <tr>\n",
       "      <th>4</th>\n",
       "      <td>3.904900e+11</td>\n",
       "      <td>1306612</td>\n",
       "      <td>0.0</td>\n",
       "      <td>0.0</td>\n",
       "      <td>0.0</td>\n",
       "      <td>555082.0</td>\n",
       "      <td>227204.0</td>\n",
       "      <td>POLYGON ((1819356.193 746461.760, 1819357.879 ...</td>\n",
       "    </tr>\n",
       "    <tr>\n",
       "      <th>...</th>\n",
       "      <td>...</td>\n",
       "      <td>...</td>\n",
       "      <td>...</td>\n",
       "      <td>...</td>\n",
       "      <td>...</td>\n",
       "      <td>...</td>\n",
       "      <td>...</td>\n",
       "      <td>...</td>\n",
       "    </tr>\n",
       "    <tr>\n",
       "      <th>882</th>\n",
       "      <td>3.904901e+11</td>\n",
       "      <td>1496037</td>\n",
       "      <td>0.0</td>\n",
       "      <td>0.0</td>\n",
       "      <td>0.0</td>\n",
       "      <td>542980.0</td>\n",
       "      <td>225174.0</td>\n",
       "      <td>POLYGON ((1778666.866 739812.147, 1778675.505 ...</td>\n",
       "    </tr>\n",
       "    <tr>\n",
       "      <th>883</th>\n",
       "      <td>3.904901e+11</td>\n",
       "      <td>1071868</td>\n",
       "      <td>0.0</td>\n",
       "      <td>0.0</td>\n",
       "      <td>0.0</td>\n",
       "      <td>543816.0</td>\n",
       "      <td>223361.0</td>\n",
       "      <td>POLYGON ((1782562.390 732499.829, 1782576.655 ...</td>\n",
       "    </tr>\n",
       "    <tr>\n",
       "      <th>884</th>\n",
       "      <td>3.904901e+11</td>\n",
       "      <td>976294</td>\n",
       "      <td>0.0</td>\n",
       "      <td>0.0</td>\n",
       "      <td>0.0</td>\n",
       "      <td>543189.0</td>\n",
       "      <td>223506.0</td>\n",
       "      <td>POLYGON ((1780690.313 730543.555, 1780700.200 ...</td>\n",
       "    </tr>\n",
       "    <tr>\n",
       "      <th>885</th>\n",
       "      <td>3.904901e+11</td>\n",
       "      <td>1393730</td>\n",
       "      <td>0.0</td>\n",
       "      <td>0.0</td>\n",
       "      <td>0.0</td>\n",
       "      <td>556514.0</td>\n",
       "      <td>229489.0</td>\n",
       "      <td>POLYGON ((1823090.919 751653.096, 1823104.890 ...</td>\n",
       "    </tr>\n",
       "    <tr>\n",
       "      <th>886</th>\n",
       "      <td>3.904998e+11</td>\n",
       "      <td>11259138</td>\n",
       "      <td>0.0</td>\n",
       "      <td>0.0</td>\n",
       "      <td>0.0</td>\n",
       "      <td>566962.0</td>\n",
       "      <td>221710.0</td>\n",
       "      <td>POLYGON ((1852471.981 724027.775, 1852476.695 ...</td>\n",
       "    </tr>\n",
       "  </tbody>\n",
       "</table>\n",
       "<p>887 rows × 8 columns</p>\n",
       "</div>"
      ],
      "text/plain": [
       "               id      name  direction  is_pass  is_bidi         X         Y  \\\n",
       "0    3.904900e+11    652774        0.0      0.0      0.0  556995.0  228606.0   \n",
       "1    3.904900e+11    455974        0.0      0.0      0.0  556115.0  228528.0   \n",
       "2    3.904900e+11    276200        0.0      0.0      0.0  556140.0  228921.0   \n",
       "3    3.904900e+11    575424        0.0      0.0      0.0  555304.0  228715.0   \n",
       "4    3.904900e+11   1306612        0.0      0.0      0.0  555082.0  227204.0   \n",
       "..            ...       ...        ...      ...      ...       ...       ...   \n",
       "882  3.904901e+11   1496037        0.0      0.0      0.0  542980.0  225174.0   \n",
       "883  3.904901e+11   1071868        0.0      0.0      0.0  543816.0  223361.0   \n",
       "884  3.904901e+11    976294        0.0      0.0      0.0  543189.0  223506.0   \n",
       "885  3.904901e+11   1393730        0.0      0.0      0.0  556514.0  229489.0   \n",
       "886  3.904998e+11  11259138        0.0      0.0      0.0  566962.0  221710.0   \n",
       "\n",
       "                                              geometry  \n",
       "0    POLYGON ((1825954.827 748893.621, 1825988.398 ...  \n",
       "1    POLYGON ((1822974.998 749264.334, 1822982.231 ...  \n",
       "2    POLYGON ((1823054.744 750911.957, 1823058.209 ...  \n",
       "3    POLYGON ((1820180.527 751821.920, 1820261.383 ...  \n",
       "4    POLYGON ((1819356.193 746461.760, 1819357.879 ...  \n",
       "..                                                 ...  \n",
       "882  POLYGON ((1778666.866 739812.147, 1778675.505 ...  \n",
       "883  POLYGON ((1782562.390 732499.829, 1782576.655 ...  \n",
       "884  POLYGON ((1780690.313 730543.555, 1780700.200 ...  \n",
       "885  POLYGON ((1823090.919 751653.096, 1823104.890 ...  \n",
       "886  POLYGON ((1852471.981 724027.775, 1852476.695 ...  \n",
       "\n",
       "[887 rows x 8 columns]"
      ]
     },
     "execution_count": 91,
     "metadata": {},
     "output_type": "execute_result"
    }
   ],
   "source": []
  },
  {
   "cell_type": "markdown",
   "metadata": {},
   "source": [
    "# Join with Beta and Export dataset"
   ]
  },
  {
   "cell_type": "code",
   "execution_count": 93,
   "metadata": {},
   "outputs": [],
   "source": [
    "df = pd.merge(franklin_bg, data1, left_on = 'id', right_on = 'id')\n",
    "before = pd.read_csv(r'C:\\Users\\armit\\OneDrive - The Ohio State University\\SI model\\result\\Jan15_Mar14_gaussian.csv')\n",
    "after = pd.read_csv(r'C:\\Users\\armit\\OneDrive - The Ohio State University\\SI model\\result\\Mar15_April30_gaussian.csv')"
   ]
  },
  {
   "cell_type": "code",
   "execution_count": 96,
   "metadata": {},
   "outputs": [],
   "source": [
    "before = before[['ID', 'Avg_trip_len']]\n",
    "after = after[['ID', 'Avg_trip_len']]"
   ]
  },
  {
   "cell_type": "code",
   "execution_count": 160,
   "metadata": {},
   "outputs": [
    {
     "ename": "KeyError",
     "evalue": "'id'",
     "output_type": "error",
     "traceback": [
      "\u001b[1;31m---------------------------------------------------------------------------\u001b[0m",
      "\u001b[1;31mKeyError\u001b[0m                                  Traceback (most recent call last)",
      "\u001b[1;32m<ipython-input-160-98a1a40849b4>\u001b[0m in \u001b[0;36m<module>\u001b[1;34m\u001b[0m\n\u001b[1;32m----> 1\u001b[1;33m \u001b[0mdf1\u001b[0m \u001b[1;33m=\u001b[0m \u001b[0mpd\u001b[0m\u001b[1;33m.\u001b[0m\u001b[0mmerge\u001b[0m\u001b[1;33m(\u001b[0m\u001b[0mdf\u001b[0m\u001b[1;33m,\u001b[0m \u001b[0mbefore\u001b[0m\u001b[1;33m,\u001b[0m \u001b[0mleft_on\u001b[0m \u001b[1;33m=\u001b[0m \u001b[1;34m'id'\u001b[0m\u001b[1;33m,\u001b[0m \u001b[0mright_on\u001b[0m \u001b[1;33m=\u001b[0m \u001b[1;34m'ID'\u001b[0m\u001b[1;33m)\u001b[0m\u001b[1;33m\u001b[0m\u001b[1;33m\u001b[0m\u001b[0m\n\u001b[0m\u001b[0;32m      2\u001b[0m \u001b[0mdf2\u001b[0m \u001b[1;33m=\u001b[0m \u001b[0mpd\u001b[0m\u001b[1;33m.\u001b[0m\u001b[0mmerge\u001b[0m\u001b[1;33m(\u001b[0m\u001b[0mdf1\u001b[0m\u001b[1;33m,\u001b[0m \u001b[0mafter\u001b[0m\u001b[1;33m,\u001b[0m \u001b[0mleft_on\u001b[0m \u001b[1;33m=\u001b[0m \u001b[1;34m'id'\u001b[0m\u001b[1;33m,\u001b[0m \u001b[0mright_on\u001b[0m \u001b[1;33m=\u001b[0m \u001b[1;34m'ID'\u001b[0m\u001b[1;33m)\u001b[0m\u001b[1;33m\u001b[0m\u001b[1;33m\u001b[0m\u001b[0m\n\u001b[0;32m      3\u001b[0m \u001b[0mdf3\u001b[0m \u001b[1;33m=\u001b[0m \u001b[0mdf2\u001b[0m\u001b[1;33m.\u001b[0m\u001b[0mrename\u001b[0m\u001b[1;33m(\u001b[0m\u001b[0mcolumns\u001b[0m \u001b[1;33m=\u001b[0m \u001b[1;33m{\u001b[0m\u001b[1;34m'Avg_trip_len_x'\u001b[0m\u001b[1;33m:\u001b[0m \u001b[1;34m'beta_before'\u001b[0m\u001b[1;33m,\u001b[0m \u001b[1;34m'Avg_trip_len_y'\u001b[0m\u001b[1;33m:\u001b[0m \u001b[1;34m'beta_after'\u001b[0m\u001b[1;33m}\u001b[0m\u001b[1;33m)\u001b[0m\u001b[1;33m\u001b[0m\u001b[1;33m\u001b[0m\u001b[0m\n\u001b[0;32m      4\u001b[0m \u001b[0mdf3\u001b[0m\u001b[1;33m[\u001b[0m\u001b[1;34m'beta_change'\u001b[0m\u001b[1;33m]\u001b[0m \u001b[1;33m=\u001b[0m \u001b[0mdf3\u001b[0m\u001b[1;33m[\u001b[0m\u001b[1;34m'beta_after'\u001b[0m\u001b[1;33m]\u001b[0m \u001b[1;33m-\u001b[0m \u001b[0mdf3\u001b[0m\u001b[1;33m[\u001b[0m\u001b[1;34m'beta_before'\u001b[0m\u001b[1;33m]\u001b[0m\u001b[1;33m\u001b[0m\u001b[1;33m\u001b[0m\u001b[0m\n\u001b[0;32m      5\u001b[0m \u001b[0mdf3\u001b[0m\u001b[1;33m.\u001b[0m\u001b[0mto_csv\u001b[0m\u001b[1;33m(\u001b[0m\u001b[1;34mr'C:\\Users\\armit\\OneDrive - The Ohio State University\\SI model\\result\\beta_change.csv'\u001b[0m\u001b[1;33m)\u001b[0m\u001b[1;33m\u001b[0m\u001b[1;33m\u001b[0m\u001b[0m\n",
      "\u001b[1;32m~\\anaconda3\\lib\\site-packages\\pandas\\core\\reshape\\merge.py\u001b[0m in \u001b[0;36mmerge\u001b[1;34m(left, right, how, on, left_on, right_on, left_index, right_index, sort, suffixes, copy, indicator, validate)\u001b[0m\n\u001b[0;32m     84\u001b[0m         \u001b[0mcopy\u001b[0m\u001b[1;33m=\u001b[0m\u001b[0mcopy\u001b[0m\u001b[1;33m,\u001b[0m\u001b[1;33m\u001b[0m\u001b[1;33m\u001b[0m\u001b[0m\n\u001b[0;32m     85\u001b[0m         \u001b[0mindicator\u001b[0m\u001b[1;33m=\u001b[0m\u001b[0mindicator\u001b[0m\u001b[1;33m,\u001b[0m\u001b[1;33m\u001b[0m\u001b[1;33m\u001b[0m\u001b[0m\n\u001b[1;32m---> 86\u001b[1;33m         \u001b[0mvalidate\u001b[0m\u001b[1;33m=\u001b[0m\u001b[0mvalidate\u001b[0m\u001b[1;33m,\u001b[0m\u001b[1;33m\u001b[0m\u001b[1;33m\u001b[0m\u001b[0m\n\u001b[0m\u001b[0;32m     87\u001b[0m     )\n\u001b[0;32m     88\u001b[0m     \u001b[1;32mreturn\u001b[0m \u001b[0mop\u001b[0m\u001b[1;33m.\u001b[0m\u001b[0mget_result\u001b[0m\u001b[1;33m(\u001b[0m\u001b[1;33m)\u001b[0m\u001b[1;33m\u001b[0m\u001b[1;33m\u001b[0m\u001b[0m\n",
      "\u001b[1;32m~\\anaconda3\\lib\\site-packages\\pandas\\core\\reshape\\merge.py\u001b[0m in \u001b[0;36m__init__\u001b[1;34m(self, left, right, how, on, left_on, right_on, axis, left_index, right_index, sort, suffixes, copy, indicator, validate)\u001b[0m\n\u001b[0;32m    625\u001b[0m             \u001b[0mself\u001b[0m\u001b[1;33m.\u001b[0m\u001b[0mright_join_keys\u001b[0m\u001b[1;33m,\u001b[0m\u001b[1;33m\u001b[0m\u001b[1;33m\u001b[0m\u001b[0m\n\u001b[0;32m    626\u001b[0m             \u001b[0mself\u001b[0m\u001b[1;33m.\u001b[0m\u001b[0mjoin_names\u001b[0m\u001b[1;33m,\u001b[0m\u001b[1;33m\u001b[0m\u001b[1;33m\u001b[0m\u001b[0m\n\u001b[1;32m--> 627\u001b[1;33m         ) = self._get_merge_keys()\n\u001b[0m\u001b[0;32m    628\u001b[0m \u001b[1;33m\u001b[0m\u001b[0m\n\u001b[0;32m    629\u001b[0m         \u001b[1;31m# validate the merge keys dtypes. We may need to coerce\u001b[0m\u001b[1;33m\u001b[0m\u001b[1;33m\u001b[0m\u001b[1;33m\u001b[0m\u001b[0m\n",
      "\u001b[1;32m~\\anaconda3\\lib\\site-packages\\pandas\\core\\reshape\\merge.py\u001b[0m in \u001b[0;36m_get_merge_keys\u001b[1;34m(self)\u001b[0m\n\u001b[0;32m    994\u001b[0m                         \u001b[0mright_keys\u001b[0m\u001b[1;33m.\u001b[0m\u001b[0mappend\u001b[0m\u001b[1;33m(\u001b[0m\u001b[0mrk\u001b[0m\u001b[1;33m)\u001b[0m\u001b[1;33m\u001b[0m\u001b[1;33m\u001b[0m\u001b[0m\n\u001b[0;32m    995\u001b[0m                     \u001b[1;32mif\u001b[0m \u001b[0mlk\u001b[0m \u001b[1;32mis\u001b[0m \u001b[1;32mnot\u001b[0m \u001b[1;32mNone\u001b[0m\u001b[1;33m:\u001b[0m\u001b[1;33m\u001b[0m\u001b[1;33m\u001b[0m\u001b[0m\n\u001b[1;32m--> 996\u001b[1;33m                         \u001b[0mleft_keys\u001b[0m\u001b[1;33m.\u001b[0m\u001b[0mappend\u001b[0m\u001b[1;33m(\u001b[0m\u001b[0mleft\u001b[0m\u001b[1;33m.\u001b[0m\u001b[0m_get_label_or_level_values\u001b[0m\u001b[1;33m(\u001b[0m\u001b[0mlk\u001b[0m\u001b[1;33m)\u001b[0m\u001b[1;33m)\u001b[0m\u001b[1;33m\u001b[0m\u001b[1;33m\u001b[0m\u001b[0m\n\u001b[0m\u001b[0;32m    997\u001b[0m                         \u001b[0mjoin_names\u001b[0m\u001b[1;33m.\u001b[0m\u001b[0mappend\u001b[0m\u001b[1;33m(\u001b[0m\u001b[0mlk\u001b[0m\u001b[1;33m)\u001b[0m\u001b[1;33m\u001b[0m\u001b[1;33m\u001b[0m\u001b[0m\n\u001b[0;32m    998\u001b[0m                     \u001b[1;32melse\u001b[0m\u001b[1;33m:\u001b[0m\u001b[1;33m\u001b[0m\u001b[1;33m\u001b[0m\u001b[0m\n",
      "\u001b[1;32m~\\anaconda3\\lib\\site-packages\\pandas\\core\\generic.py\u001b[0m in \u001b[0;36m_get_label_or_level_values\u001b[1;34m(self, key, axis)\u001b[0m\n\u001b[0;32m   1690\u001b[0m             \u001b[0mvalues\u001b[0m \u001b[1;33m=\u001b[0m \u001b[0mself\u001b[0m\u001b[1;33m.\u001b[0m\u001b[0maxes\u001b[0m\u001b[1;33m[\u001b[0m\u001b[0maxis\u001b[0m\u001b[1;33m]\u001b[0m\u001b[1;33m.\u001b[0m\u001b[0mget_level_values\u001b[0m\u001b[1;33m(\u001b[0m\u001b[0mkey\u001b[0m\u001b[1;33m)\u001b[0m\u001b[1;33m.\u001b[0m\u001b[0m_values\u001b[0m\u001b[1;33m\u001b[0m\u001b[1;33m\u001b[0m\u001b[0m\n\u001b[0;32m   1691\u001b[0m         \u001b[1;32melse\u001b[0m\u001b[1;33m:\u001b[0m\u001b[1;33m\u001b[0m\u001b[1;33m\u001b[0m\u001b[0m\n\u001b[1;32m-> 1692\u001b[1;33m             \u001b[1;32mraise\u001b[0m \u001b[0mKeyError\u001b[0m\u001b[1;33m(\u001b[0m\u001b[0mkey\u001b[0m\u001b[1;33m)\u001b[0m\u001b[1;33m\u001b[0m\u001b[1;33m\u001b[0m\u001b[0m\n\u001b[0m\u001b[0;32m   1693\u001b[0m \u001b[1;33m\u001b[0m\u001b[0m\n\u001b[0;32m   1694\u001b[0m         \u001b[1;31m# Check for duplicates\u001b[0m\u001b[1;33m\u001b[0m\u001b[1;33m\u001b[0m\u001b[1;33m\u001b[0m\u001b[0m\n",
      "\u001b[1;31mKeyError\u001b[0m: 'id'"
     ]
    }
   ],
   "source": [
    "df1 = pd.merge(df, before, left_on = 'id', right_on = 'ID')\n",
    "df2 = pd.merge(df1, after, left_on = 'id', right_on = 'ID')\n",
    "df3 = df2.rename(columns = {'Avg_trip_len_x': 'beta_before', 'Avg_trip_len_y': 'beta_after'})\n",
    "df3['beta_change'] = df3['beta_after'] - df3['beta_before'] "
   ]
  },
  {
   "cell_type": "code",
   "execution_count": 163,
   "metadata": {},
   "outputs": [
    {
     "data": {
      "text/plain": [
       "Index(['id', 'name', 'direction', 'is_pass', 'is_bidi', 'X', 'Y', 'geometry',\n",
       "       'Other Services', 'Recreation', 'Professional', 'Health_Care', 'Retail',\n",
       "       'Accomodation_and_Food', 'Manufacturing', 'Finance', 'Information',\n",
       "       'Public_Administration', 'Education', 'Wholesale', 'Real_Estate',\n",
       "       'Transportation', 'Administrative_Services', 'Construction',\n",
       "       'Utilities', 'Agriculture', 'Management_service', 'ID_x', 'beta_before',\n",
       "       'ID_y', 'beta_after', 'beta_change'],\n",
       "      dtype='object')"
      ]
     },
     "execution_count": 163,
     "metadata": {},
     "output_type": "execute_result"
    }
   ],
   "source": [
    "df3.columns"
   ]
  },
  {
   "cell_type": "code",
   "execution_count": 161,
   "metadata": {},
   "outputs": [],
   "source": [
    "df3.to_csv(r'C:\\Users\\armit\\OneDrive - The Ohio State University\\SI model\\result\\beta_change.csv')"
   ]
  },
  {
   "cell_type": "code",
   "execution_count": 108,
   "metadata": {},
   "outputs": [],
   "source": [
    "gdf = gp.GeoDataFrame(df3, geometry = df3.geometry)\n",
    "gdf.to_file(r'C:\\Users\\armit\\OneDrive - The Ohio State University\\SI model\\Shapefiles\\beta_change.shp', Driver = 'Esri Shapefile')"
   ]
  },
  {
   "cell_type": "code",
   "execution_count": 109,
   "metadata": {},
   "outputs": [
    {
     "data": {
      "text/plain": [
       "<matplotlib.axes._subplots.AxesSubplot at 0x1e0d7119908>"
      ]
     },
     "execution_count": 109,
     "metadata": {},
     "output_type": "execute_result"
    },
    {
     "data": {
      "image/png": "[encoded data removed]",
      "text/plain": [
       "<Figure size 432x288 with 2 Axes>"
      ]
     },
     "metadata": {
      "needs_background": "light"
     },
     "output_type": "display_data"
    }
   ],
   "source": [
    "fig = plt.figure()\n",
    "ax = fig.add_subplot(111)\n",
    "gdf.plot('beta_change', cmap='Greens', ax=ax, legend = True)"
   ]
  },
  {
   "cell_type": "markdown",
   "metadata": {},
   "source": [
    "# GLM model for changing beta (Gaussian)"
   ]
  },
  {
   "cell_type": "code",
   "execution_count": 113,
   "metadata": {},
   "outputs": [
    {
     "name": "stderr",
     "output_type": "stream",
     "text": [
      "C:\\Users\\armit\\anaconda3\\lib\\site-packages\\ipykernel_launcher.py:6: MatplotlibDeprecationWarning: \n",
      "The 'normed' kwarg was deprecated in Matplotlib 2.1 and will be removed in 3.1. Use 'density' instead.\n",
      "  \n"
     ]
    },
    {
     "data": {
      "image/png": "[encoded data removed]",
      "text/plain": [
       "<Figure size 432x288 with 1 Axes>"
      ]
     },
     "metadata": {
      "needs_background": "light"
     },
     "output_type": "display_data"
    }
   ],
   "source": [
    "h = sorted(list(df3['beta_change']))  #sorted\n",
    "fit = stats.norm.pdf(h, np.mean(h), np.std(h))  #this is a fitting indeed\n",
    "\n",
    "pl.plot(h,fit,'-o')\n",
    "\n",
    "pl.hist(h,normed=True)      #use this to draw histogram of your data\n",
    "\n",
    "pl.show() "
   ]
  },
  {
   "cell_type": "code",
   "execution_count": 140,
   "metadata": {},
   "outputs": [
    {
     "data": {
      "text/plain": [
       "-6115.373097450482"
      ]
     },
     "execution_count": 140,
     "metadata": {},
     "output_type": "execute_result"
    }
   ],
   "source": [
    "Y = df3['beta_change'].values.reshape((-1,1))\n",
    "'''X = df3[['Other Services', 'Recreation', 'Professional', 'Health_Care', 'Retail',\n",
    "       'Accomodation_and_Food', 'Manufacturing', 'Finance', 'Information',\n",
    "       'Public_Administration', 'Education', 'Wholesale', 'Real_Estate',\n",
    "       'Transportation', 'Administrative_Services', 'Construction',\n",
    "       'Utilities', 'Agriculture', 'Management_service']].values'''\n",
    "\n",
    "X = df3[['Other Services', 'Recreation', 'Professional', 'Health_Care', 'Retail',\n",
    "       'Accomodation_and_Food', 'Manufacturing', 'Finance', 'Information',\n",
    "       'Public_Administration', 'Education', 'Construction']].values\n",
    "\n",
    "\n",
    "model = GLM(Y, X, family=Gaussian())\n",
    "results = model.fit()\n",
    "results.params\n",
    "\n",
    "'''results.pseudoR2\n",
    "results.adj_pseudoR2'''\n",
    "\n",
    "results.params\n",
    "results.pvalues\n",
    "results.aic"
   ]
  },
  {
   "cell_type": "markdown",
   "metadata": {},
   "source": [
    "# read data for change in flow"
   ]
  },
  {
   "cell_type": "code",
   "execution_count": 167,
   "metadata": {},
   "outputs": [],
   "source": [
    "after_df = pd.read_csv(r'C:\\Users\\armit\\OneDrive - The Ohio State University\\SI model\\result\\data_Mar15_Apr30_gaussian.csv')\n",
    "before_df = pd.read_csv(r'C:\\Users\\armit\\OneDrive - The Ohio State University\\SI model\\result\\data_Jan15_Mar14_gaussian.csv')"
   ]
  },
  {
   "cell_type": "code",
   "execution_count": 168,
   "metadata": {},
   "outputs": [],
   "source": [
    "df = pd.merge(before_df, after_df, on = ['Origin', 'Destination'])"
   ]
  },
  {
   "cell_type": "code",
   "execution_count": 169,
   "metadata": {},
   "outputs": [],
   "source": [
    "df['change_flow'] = df['Flow_y'] - df['Flow_x']\n",
    "df['inc_less_20k_ch'] = df['inc<20k_y'] - df['inc<20k_x']\n",
    "df['inc_20_50k_ch'] = df['inc20-50k_y'] - df['inc20-50k_x']\n",
    "df['inc_50_100k_ch'] = df['inc50-100k_y'] - df['inc50-100k_x']\n",
    "df['inc_more_100k_ch'] = df['inc>100k_y'] - df['inc>100k_x']\n",
    "df['pct_hbw_ch'] = df['pct_hbw_y'] - df['pct_hbw_x']\n",
    "df['pct_hbo_ch'] = df['pct_hbo_y'] - df['pct_hbo_x']\n",
    "df['pct_nhb_ch'] = df['pct_nhb_y'] - df['pct_nhb_x']\n",
    "df['white_ch'] = df['white_y'] - df['white_x']\n",
    "df['non_white_ch'] = df['non-white_y'] - df['non-white_x']"
   ]
  },
  {
   "cell_type": "code",
   "execution_count": 170,
   "metadata": {},
   "outputs": [],
   "source": [
    "df.columns\n",
    "df.to_csv(r'C:\\Users\\armit\\OneDrive - The Ohio State University\\SI model\\result\\flow_change.csv')"
   ]
  },
  {
   "cell_type": "code",
   "execution_count": 172,
   "metadata": {},
   "outputs": [
    {
     "data": {
      "text/html": [
       "<div>\n",
       "<style scoped>\n",
       "    .dataframe tbody tr th:only-of-type {\n",
       "        vertical-align: middle;\n",
       "    }\n",
       "\n",
       "    .dataframe tbody tr th {\n",
       "        vertical-align: top;\n",
       "    }\n",
       "\n",
       "    .dataframe thead th {\n",
       "        text-align: right;\n",
       "    }\n",
       "</style>\n",
       "<table border=\"1\" class=\"dataframe\">\n",
       "  <thead>\n",
       "    <tr style=\"text-align: right;\">\n",
       "      <th></th>\n",
       "      <th>Unnamed: 0_x</th>\n",
       "      <th>Origin</th>\n",
       "      <th>Destination</th>\n",
       "      <th>Flow_x</th>\n",
       "      <th>Avg_trip_len_x</th>\n",
       "      <th>Volume_x</th>\n",
       "      <th>Duration_x</th>\n",
       "      <th>Oi_x</th>\n",
       "      <th>Dj_x</th>\n",
       "      <th>inc&lt;20k_x</th>\n",
       "      <th>...</th>\n",
       "      <th>change_flow</th>\n",
       "      <th>inc_less_20k_ch</th>\n",
       "      <th>inc_20_50k_ch</th>\n",
       "      <th>inc_50_100k_ch</th>\n",
       "      <th>inc_more_100k_ch</th>\n",
       "      <th>pct_hbw_ch</th>\n",
       "      <th>pct_hbo_ch</th>\n",
       "      <th>pct_nhb_ch</th>\n",
       "      <th>white_ch</th>\n",
       "      <th>non_white_ch</th>\n",
       "    </tr>\n",
       "  </thead>\n",
       "  <tbody>\n",
       "    <tr>\n",
       "      <th>0</th>\n",
       "      <td>0</td>\n",
       "      <td>390490001101</td>\n",
       "      <td>390490001101</td>\n",
       "      <td>29</td>\n",
       "      <td>699.000000</td>\n",
       "      <td>29.0</td>\n",
       "      <td>699.0</td>\n",
       "      <td>2463.0</td>\n",
       "      <td>2645.0</td>\n",
       "      <td>0.119</td>\n",
       "      <td>...</td>\n",
       "      <td>10</td>\n",
       "      <td>-0.003</td>\n",
       "      <td>-0.018</td>\n",
       "      <td>0.003</td>\n",
       "      <td>0.018</td>\n",
       "      <td>-0.015</td>\n",
       "      <td>0.103</td>\n",
       "      <td>-0.088</td>\n",
       "      <td>0.040</td>\n",
       "      <td>-0.040</td>\n",
       "    </tr>\n",
       "    <tr>\n",
       "      <th>1</th>\n",
       "      <td>1</td>\n",
       "      <td>390490001102</td>\n",
       "      <td>390490001101</td>\n",
       "      <td>28</td>\n",
       "      <td>843.480000</td>\n",
       "      <td>28.0</td>\n",
       "      <td>858.0</td>\n",
       "      <td>1259.0</td>\n",
       "      <td>2645.0</td>\n",
       "      <td>0.133</td>\n",
       "      <td>...</td>\n",
       "      <td>36</td>\n",
       "      <td>-0.007</td>\n",
       "      <td>-0.013</td>\n",
       "      <td>0.010</td>\n",
       "      <td>0.010</td>\n",
       "      <td>0.246</td>\n",
       "      <td>0.032</td>\n",
       "      <td>-0.278</td>\n",
       "      <td>0.019</td>\n",
       "      <td>-0.019</td>\n",
       "    </tr>\n",
       "    <tr>\n",
       "      <th>2</th>\n",
       "      <td>2</td>\n",
       "      <td>390490001103</td>\n",
       "      <td>390490001101</td>\n",
       "      <td>22</td>\n",
       "      <td>878.435897</td>\n",
       "      <td>22.0</td>\n",
       "      <td>946.0</td>\n",
       "      <td>1138.0</td>\n",
       "      <td>2645.0</td>\n",
       "      <td>0.122</td>\n",
       "      <td>...</td>\n",
       "      <td>1</td>\n",
       "      <td>0.023</td>\n",
       "      <td>-0.022</td>\n",
       "      <td>-0.026</td>\n",
       "      <td>0.025</td>\n",
       "      <td>-0.102</td>\n",
       "      <td>-0.050</td>\n",
       "      <td>0.152</td>\n",
       "      <td>-0.017</td>\n",
       "      <td>0.017</td>\n",
       "    </tr>\n",
       "    <tr>\n",
       "      <th>3</th>\n",
       "      <td>3</td>\n",
       "      <td>390490001104</td>\n",
       "      <td>390490001101</td>\n",
       "      <td>13</td>\n",
       "      <td>958.151515</td>\n",
       "      <td>13.0</td>\n",
       "      <td>923.0</td>\n",
       "      <td>1287.0</td>\n",
       "      <td>2645.0</td>\n",
       "      <td>0.112</td>\n",
       "      <td>...</td>\n",
       "      <td>-2</td>\n",
       "      <td>-0.014</td>\n",
       "      <td>0.009</td>\n",
       "      <td>0.021</td>\n",
       "      <td>-0.016</td>\n",
       "      <td>0.182</td>\n",
       "      <td>-0.118</td>\n",
       "      <td>-0.064</td>\n",
       "      <td>0.004</td>\n",
       "      <td>-0.004</td>\n",
       "    </tr>\n",
       "    <tr>\n",
       "      <th>4</th>\n",
       "      <td>4</td>\n",
       "      <td>390490001201</td>\n",
       "      <td>390490001101</td>\n",
       "      <td>55</td>\n",
       "      <td>1062.166667</td>\n",
       "      <td>55.0</td>\n",
       "      <td>1071.0</td>\n",
       "      <td>4840.0</td>\n",
       "      <td>2645.0</td>\n",
       "      <td>0.115</td>\n",
       "      <td>...</td>\n",
       "      <td>-36</td>\n",
       "      <td>0.007</td>\n",
       "      <td>-0.042</td>\n",
       "      <td>0.003</td>\n",
       "      <td>0.032</td>\n",
       "      <td>-0.071</td>\n",
       "      <td>-0.106</td>\n",
       "      <td>0.177</td>\n",
       "      <td>-0.020</td>\n",
       "      <td>0.020</td>\n",
       "    </tr>\n",
       "    <tr>\n",
       "      <th>...</th>\n",
       "      <td>...</td>\n",
       "      <td>...</td>\n",
       "      <td>...</td>\n",
       "      <td>...</td>\n",
       "      <td>...</td>\n",
       "      <td>...</td>\n",
       "      <td>...</td>\n",
       "      <td>...</td>\n",
       "      <td>...</td>\n",
       "      <td>...</td>\n",
       "      <td>...</td>\n",
       "      <td>...</td>\n",
       "      <td>...</td>\n",
       "      <td>...</td>\n",
       "      <td>...</td>\n",
       "      <td>...</td>\n",
       "      <td>...</td>\n",
       "      <td>...</td>\n",
       "      <td>...</td>\n",
       "      <td>...</td>\n",
       "      <td>...</td>\n",
       "    </tr>\n",
       "    <tr>\n",
       "      <th>786764</th>\n",
       "      <td>786764</td>\n",
       "      <td>390490106021</td>\n",
       "      <td>390499800001</td>\n",
       "      <td>6</td>\n",
       "      <td>2900.500000</td>\n",
       "      <td>6.0</td>\n",
       "      <td>3062.0</td>\n",
       "      <td>5124.0</td>\n",
       "      <td>28473.0</td>\n",
       "      <td>0.230</td>\n",
       "      <td>...</td>\n",
       "      <td>-4</td>\n",
       "      <td>-0.107</td>\n",
       "      <td>-0.016</td>\n",
       "      <td>0.141</td>\n",
       "      <td>-0.018</td>\n",
       "      <td>0.000</td>\n",
       "      <td>-0.617</td>\n",
       "      <td>0.617</td>\n",
       "      <td>-0.149</td>\n",
       "      <td>0.149</td>\n",
       "    </tr>\n",
       "    <tr>\n",
       "      <th>786765</th>\n",
       "      <td>786765</td>\n",
       "      <td>390490106022</td>\n",
       "      <td>390499800001</td>\n",
       "      <td>11</td>\n",
       "      <td>2434.500000</td>\n",
       "      <td>11.0</td>\n",
       "      <td>2298.0</td>\n",
       "      <td>5492.0</td>\n",
       "      <td>28473.0</td>\n",
       "      <td>0.065</td>\n",
       "      <td>...</td>\n",
       "      <td>-8</td>\n",
       "      <td>-0.036</td>\n",
       "      <td>-0.061</td>\n",
       "      <td>0.008</td>\n",
       "      <td>0.089</td>\n",
       "      <td>0.696</td>\n",
       "      <td>-0.366</td>\n",
       "      <td>-0.330</td>\n",
       "      <td>0.054</td>\n",
       "      <td>-0.054</td>\n",
       "    </tr>\n",
       "    <tr>\n",
       "      <th>786766</th>\n",
       "      <td>786766</td>\n",
       "      <td>390490106023</td>\n",
       "      <td>390499800001</td>\n",
       "      <td>17</td>\n",
       "      <td>2608.965517</td>\n",
       "      <td>17.0</td>\n",
       "      <td>2712.0</td>\n",
       "      <td>3458.0</td>\n",
       "      <td>28473.0</td>\n",
       "      <td>0.121</td>\n",
       "      <td>...</td>\n",
       "      <td>-16</td>\n",
       "      <td>0.048</td>\n",
       "      <td>0.035</td>\n",
       "      <td>0.018</td>\n",
       "      <td>-0.101</td>\n",
       "      <td>0.000</td>\n",
       "      <td>0.156</td>\n",
       "      <td>-0.156</td>\n",
       "      <td>0.084</td>\n",
       "      <td>-0.084</td>\n",
       "    </tr>\n",
       "    <tr>\n",
       "      <th>786767</th>\n",
       "      <td>786767</td>\n",
       "      <td>390490107001</td>\n",
       "      <td>390499800001</td>\n",
       "      <td>8</td>\n",
       "      <td>2402.333333</td>\n",
       "      <td>8.0</td>\n",
       "      <td>2099.0</td>\n",
       "      <td>4872.0</td>\n",
       "      <td>28473.0</td>\n",
       "      <td>0.213</td>\n",
       "      <td>...</td>\n",
       "      <td>-3</td>\n",
       "      <td>0.005</td>\n",
       "      <td>0.061</td>\n",
       "      <td>-0.024</td>\n",
       "      <td>-0.042</td>\n",
       "      <td>-0.135</td>\n",
       "      <td>0.049</td>\n",
       "      <td>0.086</td>\n",
       "      <td>0.084</td>\n",
       "      <td>-0.084</td>\n",
       "    </tr>\n",
       "    <tr>\n",
       "      <th>786768</th>\n",
       "      <td>786768</td>\n",
       "      <td>390499800001</td>\n",
       "      <td>390499800001</td>\n",
       "      <td>4450</td>\n",
       "      <td>952.000000</td>\n",
       "      <td>4450.0</td>\n",
       "      <td>952.0</td>\n",
       "      <td>28488.0</td>\n",
       "      <td>28473.0</td>\n",
       "      <td>0.148</td>\n",
       "      <td>...</td>\n",
       "      <td>-1728</td>\n",
       "      <td>0.020</td>\n",
       "      <td>0.015</td>\n",
       "      <td>0.025</td>\n",
       "      <td>-0.060</td>\n",
       "      <td>0.001</td>\n",
       "      <td>0.008</td>\n",
       "      <td>-0.009</td>\n",
       "      <td>-0.038</td>\n",
       "      <td>0.038</td>\n",
       "    </tr>\n",
       "  </tbody>\n",
       "</table>\n",
       "<p>786769 rows × 56 columns</p>\n",
       "</div>"
      ],
      "text/plain": [
       "        Unnamed: 0_x        Origin   Destination  Flow_x  Avg_trip_len_x  \\\n",
       "0                  0  390490001101  390490001101      29      699.000000   \n",
       "1                  1  390490001102  390490001101      28      843.480000   \n",
       "2                  2  390490001103  390490001101      22      878.435897   \n",
       "3                  3  390490001104  390490001101      13      958.151515   \n",
       "4                  4  390490001201  390490001101      55     1062.166667   \n",
       "...              ...           ...           ...     ...             ...   \n",
       "786764        786764  390490106021  390499800001       6     2900.500000   \n",
       "786765        786765  390490106022  390499800001      11     2434.500000   \n",
       "786766        786766  390490106023  390499800001      17     2608.965517   \n",
       "786767        786767  390490107001  390499800001       8     2402.333333   \n",
       "786768        786768  390499800001  390499800001    4450      952.000000   \n",
       "\n",
       "        Volume_x  Duration_x     Oi_x     Dj_x  inc<20k_x  ...  change_flow  \\\n",
       "0           29.0       699.0   2463.0   2645.0      0.119  ...           10   \n",
       "1           28.0       858.0   1259.0   2645.0      0.133  ...           36   \n",
       "2           22.0       946.0   1138.0   2645.0      0.122  ...            1   \n",
       "3           13.0       923.0   1287.0   2645.0      0.112  ...           -2   \n",
       "4           55.0      1071.0   4840.0   2645.0      0.115  ...          -36   \n",
       "...          ...         ...      ...      ...        ...  ...          ...   \n",
       "786764       6.0      3062.0   5124.0  28473.0      0.230  ...           -4   \n",
       "786765      11.0      2298.0   5492.0  28473.0      0.065  ...           -8   \n",
       "786766      17.0      2712.0   3458.0  28473.0      0.121  ...          -16   \n",
       "786767       8.0      2099.0   4872.0  28473.0      0.213  ...           -3   \n",
       "786768    4450.0       952.0  28488.0  28473.0      0.148  ...        -1728   \n",
       "\n",
       "        inc_less_20k_ch  inc_20_50k_ch  inc_50_100k_ch  inc_more_100k_ch  \\\n",
       "0                -0.003         -0.018           0.003             0.018   \n",
       "1                -0.007         -0.013           0.010             0.010   \n",
       "2                 0.023         -0.022          -0.026             0.025   \n",
       "3                -0.014          0.009           0.021            -0.016   \n",
       "4                 0.007         -0.042           0.003             0.032   \n",
       "...                 ...            ...             ...               ...   \n",
       "786764           -0.107         -0.016           0.141            -0.018   \n",
       "786765           -0.036         -0.061           0.008             0.089   \n",
       "786766            0.048          0.035           0.018            -0.101   \n",
       "786767            0.005          0.061          -0.024            -0.042   \n",
       "786768            0.020          0.015           0.025            -0.060   \n",
       "\n",
       "        pct_hbw_ch  pct_hbo_ch  pct_nhb_ch  white_ch  non_white_ch  \n",
       "0           -0.015       0.103      -0.088     0.040        -0.040  \n",
       "1            0.246       0.032      -0.278     0.019        -0.019  \n",
       "2           -0.102      -0.050       0.152    -0.017         0.017  \n",
       "3            0.182      -0.118      -0.064     0.004        -0.004  \n",
       "4           -0.071      -0.106       0.177    -0.020         0.020  \n",
       "...            ...         ...         ...       ...           ...  \n",
       "786764       0.000      -0.617       0.617    -0.149         0.149  \n",
       "786765       0.696      -0.366      -0.330     0.054        -0.054  \n",
       "786766       0.000       0.156      -0.156     0.084        -0.084  \n",
       "786767      -0.135       0.049       0.086     0.084        -0.084  \n",
       "786768       0.001       0.008      -0.009    -0.038         0.038  \n",
       "\n",
       "[786769 rows x 56 columns]"
      ]
     },
     "execution_count": 172,
     "metadata": {},
     "output_type": "execute_result"
    }
   ],
   "source": [
    "df"
   ]
  },
  {
   "cell_type": "code",
   "execution_count": null,
   "metadata": {},
   "outputs": [],
   "source": []
  }
 ],
 "metadata": {
  "kernelspec": {
   "display_name": "Python 3",
   "language": "python",
   "name": "python3"
  },
  "language_info": {
   "codemirror_mode": {
    "name": "ipython",
    "version": 3
   },
   "file_extension": ".py",
   "mimetype": "text/x-python",
   "name": "python",
   "nbconvert_exporter": "python",
   "pygments_lexer": "ipython3",
   "version": "3.7.6"
  }
 },
 "nbformat": 4,
 "nbformat_minor": 4
}
